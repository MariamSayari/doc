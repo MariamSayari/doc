{
  "nbformat": 4,
  "nbformat_minor": 0,
  "metadata": {
    "colab": {
      "name": "construction_base.ipynb",
      "provenance": [],
      "authorship_tag": "ABX9TyPMQew+BuLroAYDBDu15VtX",
      "include_colab_link": true
    },
    "kernelspec": {
      "name": "python3",
      "display_name": "Python 3"
    },
    "language_info": {
      "name": "python"
    }
  },
  "cells": [
    {
      "cell_type": "markdown",
      "metadata": {
        "id": "view-in-github",
        "colab_type": "text"
      },
      "source": [
        "<a href=\"https://colab.research.google.com/github/MariamSayari/doc/blob/main/construction_base.ipynb\" target=\"_parent\"><img src=\"https://colab.research.google.com/assets/colab-badge.svg\" alt=\"Open In Colab\"/></a>"
      ]
    },
    {
      "cell_type": "code",
      "metadata": {
        "colab": {
          "base_uri": "https://localhost:8080/"
        },
        "id": "UmW-haJIs9jO",
        "outputId": "085e7b8c-7bca-431e-d279-17418d9a811e"
      },
      "source": [
        "from google.colab import drive\n",
        "drive.mount('/content/drive')"
      ],
      "execution_count": 1,
      "outputs": [
        {
          "output_type": "stream",
          "text": [
            "Mounted at /content/drive\n"
          ],
          "name": "stdout"
        }
      ]
    },
    {
      "cell_type": "code",
      "metadata": {
        "colab": {
          "base_uri": "https://localhost:8080/"
        },
        "id": "FWqDdt5CtzIr",
        "outputId": "9cbd4d2c-bb2f-4b10-973a-1b8e2bc1c67a"
      },
      "source": [
        "!pip install praat-parselmouth"
      ],
      "execution_count": 2,
      "outputs": [
        {
          "output_type": "stream",
          "text": [
            "Collecting praat-parselmouth\n",
            "\u001b[?25l  Downloading https://files.pythonhosted.org/packages/21/b4/3f6c01ac90e2b26d4bb581b2c13e959e1e856e6f63d2ceac006dd695a25b/praat_parselmouth-0.4.0-cp37-cp37m-manylinux2010_x86_64.whl (10.7MB)\n",
            "\u001b[K     |████████████████████████████████| 10.7MB 6.1MB/s \n",
            "\u001b[?25hRequirement already satisfied: numpy>=1.7.0 in /usr/local/lib/python3.7/dist-packages (from praat-parselmouth) (1.19.5)\n",
            "Installing collected packages: praat-parselmouth\n",
            "Successfully installed praat-parselmouth-0.4.0\n"
          ],
          "name": "stdout"
        }
      ]
    },
    {
      "cell_type": "code",
      "metadata": {
        "id": "Hf8V5u7ktKPN"
      },
      "source": [
        "from os import walk\n",
        "listeFichiers = []\n",
        "monRepertoire= '/content/drive/My Drive/Colab Notebooks/Emotion_detection/Emo_Data/anger/'\n",
        "for (repertoire, sousRepertoires, fichiers) in walk(monRepertoire):\n",
        " listeFichiers.extend(fichiers)"
      ],
      "execution_count": 3,
      "outputs": []
    },
    {
      "cell_type": "markdown",
      "metadata": {
        "id": "KOYfNE3tf-5D"
      },
      "source": [
        "# Calcul Pitch "
      ]
    },
    {
      "cell_type": "code",
      "metadata": {
        "colab": {
          "base_uri": "https://localhost:8080/"
        },
        "id": "sv6H2jN1tXs6",
        "outputId": "a021741b-2c38-49ac-9206-28ccdf2b7067"
      },
      "source": [
        "import librosa\n",
        "import librosa.display\n",
        "import matplotlib.pyplot as plt\n",
        "import parselmouth\n",
        "import numpy as np\n",
        "from scipy.io import wavfile\n",
        "import seaborn as sns\n",
        "Pitch_Anger=[]\n",
        "length_Pitch_Anger=[]\n",
        "for i in range(len(listeFichiers)):\n",
        "  data, sampling_rate = librosa.load(\"/content/drive/My Drive/Colab Notebooks/Emotion_detection/Emo_Data/anger/\"+str(listeFichiers[i]),sr=8000)\n",
        "  sns.set() \n",
        "  snd= parselmouth.Sound(data,sampling_frequency=8000.0) \n",
        "  pitch = snd.to_pitch(time_step=0.016)\n",
        "  pitch_values = pitch.selected_array['frequency']\n",
        "  length_Pitch_Anger.append(len(pitch_values))\n",
        "  Pitch_Anger.append(pitch_values)\n",
        "%time"
      ],
      "execution_count": 4,
      "outputs": [
        {
          "output_type": "stream",
          "text": [
            "CPU times: user 3 µs, sys: 0 ns, total: 3 µs\n",
            "Wall time: 6.68 µs\n"
          ],
          "name": "stdout"
        }
      ]
    },
    {
      "cell_type": "code",
      "metadata": {
        "colab": {
          "base_uri": "https://localhost:8080/"
        },
        "id": "nX9RI4Utum8G",
        "outputId": "23a2835d-ea34-4dbf-c3c5-6a62747a3f8e"
      },
      "source": [
        "max(length_Pitch_Anger)"
      ],
      "execution_count": 5,
      "outputs": [
        {
          "output_type": "execute_result",
          "data": {
            "text/plain": [
              "298"
            ]
          },
          "metadata": {
            "tags": []
          },
          "execution_count": 5
        }
      ]
    },
    {
      "cell_type": "markdown",
      "metadata": {
        "id": "zsgF6w-cZA1B"
      },
      "source": [
        "## Emotion : Calm"
      ]
    },
    {
      "cell_type": "code",
      "metadata": {
        "colab": {
          "base_uri": "https://localhost:8080/"
        },
        "id": "F0pwvZeHvHLk",
        "outputId": "68484f02-19b4-4b1e-c15d-c70db9964006"
      },
      "source": [
        "listeFichiers = []\n",
        "monRepertoire= '/content/drive/My Drive/Colab Notebooks/Emotion_detection/Emo_Data/calm/'\n",
        "for (repertoire, sousRepertoires, fichiers) in walk(monRepertoire):\n",
        " listeFichiers.extend(fichiers)\n",
        "Pitch_Calm=[]\n",
        "length_Pitch_Calm=[]\n",
        "for i in range(len(listeFichiers)):\n",
        "  data, sampling_rate = librosa.load(\"/content/drive/My Drive/Colab Notebooks/Emotion_detection/Emo_Data/calm/\"+str(listeFichiers[i]),sr=8000)\n",
        "  sns.set() \n",
        "  snd= parselmouth.Sound(data,sampling_frequency=8000.0) \n",
        "  pitch = snd.to_pitch(time_step=0.016)\n",
        "  pitch_values = pitch.selected_array['frequency']\n",
        "  length_Pitch_Calm.append(len(pitch_values))\n",
        "  Pitch_Calm.append(pitch_values)\n",
        "%time"
      ],
      "execution_count": 6,
      "outputs": [
        {
          "output_type": "stream",
          "text": [
            "CPU times: user 3 µs, sys: 0 ns, total: 3 µs\n",
            "Wall time: 5.48 µs\n"
          ],
          "name": "stdout"
        }
      ]
    },
    {
      "cell_type": "code",
      "metadata": {
        "colab": {
          "base_uri": "https://localhost:8080/"
        },
        "id": "zD9BExhcfFnu",
        "outputId": "1688f572-de19-497e-c28f-831c9ad91faf"
      },
      "source": [
        "min(length_Pitch_Calm)"
      ],
      "execution_count": 7,
      "outputs": [
        {
          "output_type": "execute_result",
          "data": {
            "text/plain": [
              "194"
            ]
          },
          "metadata": {
            "tags": []
          },
          "execution_count": 7
        }
      ]
    },
    {
      "cell_type": "markdown",
      "metadata": {
        "id": "BIHexPTMZIkp"
      },
      "source": [
        "## Emotion : disgust"
      ]
    },
    {
      "cell_type": "code",
      "metadata": {
        "colab": {
          "base_uri": "https://localhost:8080/"
        },
        "id": "IhABTOPrY8zu",
        "outputId": "681ce308-f846-4a81-e489-75cc6cb376a5"
      },
      "source": [
        "listeFichiers = []\n",
        "monRepertoire= '/content/drive/My Drive/Colab Notebooks/Emotion_detection/Emo_Data/disgust/'\n",
        "for (repertoire, sousRepertoires, fichiers) in walk(monRepertoire):\n",
        " listeFichiers.extend(fichiers)\n",
        "Pitch_Disgust=[]\n",
        "length_Pitch_Disgust=[]\n",
        "for i in range(len(listeFichiers)):\n",
        "  data, sampling_rate = librosa.load(\"/content/drive/My Drive/Colab Notebooks/Emotion_detection/Emo_Data/disgust/\"+str(listeFichiers[i]),sr=8000)\n",
        "  sns.set() \n",
        "  snd= parselmouth.Sound(data,sampling_frequency=8000.0) \n",
        "  pitch = snd.to_pitch(time_step=0.016)\n",
        "  pitch_values = pitch.selected_array['frequency']\n",
        "  length_Pitch_Disgust.append(len(pitch_values))\n",
        "  Pitch_Disgust.append(pitch_values)\n",
        "%time"
      ],
      "execution_count": 8,
      "outputs": [
        {
          "output_type": "stream",
          "text": [
            "CPU times: user 3 µs, sys: 0 ns, total: 3 µs\n",
            "Wall time: 6.44 µs\n"
          ],
          "name": "stdout"
        }
      ]
    },
    {
      "cell_type": "code",
      "metadata": {
        "colab": {
          "base_uri": "https://localhost:8080/"
        },
        "id": "bpD_12cxfMGH",
        "outputId": "a2b092c3-1c9a-46c0-ed81-70b2458ea4fb"
      },
      "source": [
        "min(length_Pitch_Disgust)"
      ],
      "execution_count": 9,
      "outputs": [
        {
          "output_type": "execute_result",
          "data": {
            "text/plain": [
              "194"
            ]
          },
          "metadata": {
            "tags": []
          },
          "execution_count": 9
        }
      ]
    },
    {
      "cell_type": "markdown",
      "metadata": {
        "id": "vybknNYaZgFk"
      },
      "source": [
        "## Emotion : Fear"
      ]
    },
    {
      "cell_type": "code",
      "metadata": {
        "colab": {
          "base_uri": "https://localhost:8080/"
        },
        "id": "OAh4XlR1ZecE",
        "outputId": "282032cb-a2cb-465a-eb1a-fe6080738c19"
      },
      "source": [
        "listeFichiers = []\n",
        "monRepertoire= '/content/drive/My Drive/Colab Notebooks/Emotion_detection/Emo_Data/fear/'\n",
        "for (repertoire, sousRepertoires, fichiers) in walk(monRepertoire):\n",
        " listeFichiers.extend(fichiers)\n",
        "Pitch_fear=[]\n",
        "length_Pitch_fear=[]\n",
        "for i in range(len(listeFichiers)):\n",
        "  data, sampling_rate = librosa.load(\"/content/drive/My Drive/Colab Notebooks/Emotion_detection/Emo_Data/fear/\"+str(listeFichiers[i]),sr=8000)\n",
        "  sns.set() \n",
        "  snd= parselmouth.Sound(data,sampling_frequency=8000.0) \n",
        "  pitch = snd.to_pitch(time_step=0.016)\n",
        "  pitch_values = pitch.selected_array['frequency']\n",
        "  length_Pitch_fear.append(len(pitch_values))\n",
        "  Pitch_fear.append(pitch_values)\n",
        "%time"
      ],
      "execution_count": 10,
      "outputs": [
        {
          "output_type": "stream",
          "text": [
            "CPU times: user 2 µs, sys: 0 ns, total: 2 µs\n",
            "Wall time: 5.72 µs\n"
          ],
          "name": "stdout"
        }
      ]
    },
    {
      "cell_type": "code",
      "metadata": {
        "colab": {
          "base_uri": "https://localhost:8080/"
        },
        "id": "pdwY4F6KfSnj",
        "outputId": "1172725a-f3c5-4ed6-d352-51aae80a1cdb"
      },
      "source": [
        "min(length_Pitch_fear)"
      ],
      "execution_count": 11,
      "outputs": [
        {
          "output_type": "execute_result",
          "data": {
            "text/plain": [
              "194"
            ]
          },
          "metadata": {
            "tags": []
          },
          "execution_count": 11
        }
      ]
    },
    {
      "cell_type": "markdown",
      "metadata": {
        "id": "p3hQoX0-bqo5"
      },
      "source": [
        "## Emotion : happiness"
      ]
    },
    {
      "cell_type": "code",
      "metadata": {
        "colab": {
          "base_uri": "https://localhost:8080/"
        },
        "id": "ckMaAGEfZ-R-",
        "outputId": "6aaf7c5c-b733-4932-8566-05d6e06ac562"
      },
      "source": [
        "listeFichiers = []\n",
        "monRepertoire= '/content/drive/My Drive/Colab Notebooks/Emotion_detection/Emo_Data/happiness/'\n",
        "for (repertoire, sousRepertoires, fichiers) in walk(monRepertoire):\n",
        " listeFichiers.extend(fichiers)\n",
        "Pitch_happiness=[]\n",
        "length_Pitch_happiness=[]\n",
        "for i in range(len(listeFichiers)):\n",
        "  data, sampling_rate = librosa.load(\"/content/drive/My Drive/Colab Notebooks/Emotion_detection/Emo_Data/happiness/\"+str(listeFichiers[i]),sr=8000)\n",
        "  sns.set() \n",
        "  snd= parselmouth.Sound(data,sampling_frequency=8000.0) \n",
        "  pitch = snd.to_pitch(time_step=0.016)\n",
        "  pitch_values = pitch.selected_array['frequency']\n",
        "  length_Pitch_happiness.append(len(pitch_values))\n",
        "  Pitch_happiness.append(pitch_values)\n",
        "%time"
      ],
      "execution_count": 12,
      "outputs": [
        {
          "output_type": "stream",
          "text": [
            "CPU times: user 2 µs, sys: 1 µs, total: 3 µs\n",
            "Wall time: 5.48 µs\n"
          ],
          "name": "stdout"
        }
      ]
    },
    {
      "cell_type": "code",
      "metadata": {
        "colab": {
          "base_uri": "https://localhost:8080/"
        },
        "id": "TR2LqLbWfXZL",
        "outputId": "1f9333ca-6889-4a89-b21b-35a2bbf6e985"
      },
      "source": [
        "len(Pitch_happiness)"
      ],
      "execution_count": 13,
      "outputs": [
        {
          "output_type": "execute_result",
          "data": {
            "text/plain": [
              "95"
            ]
          },
          "metadata": {
            "tags": []
          },
          "execution_count": 13
        }
      ]
    },
    {
      "cell_type": "markdown",
      "metadata": {
        "id": "92KQZKGrcJZm"
      },
      "source": [
        "## Emotion : sadness"
      ]
    },
    {
      "cell_type": "code",
      "metadata": {
        "colab": {
          "base_uri": "https://localhost:8080/"
        },
        "id": "91tZwRCOcCXM",
        "outputId": "46db2491-f2ea-44e8-b3a2-53e3abe3117e"
      },
      "source": [
        "listeFichiers = []\n",
        "monRepertoire= '/content/drive/My Drive/Colab Notebooks/Emotion_detection/Emo_Data/sadness/'\n",
        "for (repertoire, sousRepertoires, fichiers) in walk(monRepertoire):\n",
        " listeFichiers.extend(fichiers)\n",
        "Pitch_sadness=[]\n",
        "length_Pitch_sadness=[]\n",
        "for i in range(len(listeFichiers)):\n",
        "  data, sampling_rate = librosa.load(\"/content/drive/My Drive/Colab Notebooks/Emotion_detection/Emo_Data/sadness/\"+str(listeFichiers[i]),sr=8000)\n",
        "  sns.set() \n",
        "  snd= parselmouth.Sound(data,sampling_frequency=8000.0) \n",
        "  pitch = snd.to_pitch(time_step=0.016)\n",
        "  pitch_values = pitch.selected_array['frequency']\n",
        "  length_Pitch_sadness.append(len(pitch_values))\n",
        "  Pitch_sadness.append(pitch_values)\n",
        "%time"
      ],
      "execution_count": 14,
      "outputs": [
        {
          "output_type": "stream",
          "text": [
            "CPU times: user 2 µs, sys: 0 ns, total: 2 µs\n",
            "Wall time: 5.96 µs\n"
          ],
          "name": "stdout"
        }
      ]
    },
    {
      "cell_type": "code",
      "metadata": {
        "colab": {
          "base_uri": "https://localhost:8080/"
        },
        "id": "LZVMx1D7sNpl",
        "outputId": "38b9a836-a1b2-4b18-c887-9f9f8b977d19"
      },
      "source": [
        "len(Pitch_sadness)"
      ],
      "execution_count": 15,
      "outputs": [
        {
          "output_type": "execute_result",
          "data": {
            "text/plain": [
              "138"
            ]
          },
          "metadata": {
            "tags": []
          },
          "execution_count": 15
        }
      ]
    },
    {
      "cell_type": "code",
      "metadata": {
        "colab": {
          "base_uri": "https://localhost:8080/"
        },
        "id": "SQh8AhxMfabG",
        "outputId": "34c37f27-04bc-45dd-96fe-40192b85903c"
      },
      "source": [
        "min(length_Pitch_sadness)"
      ],
      "execution_count": 16,
      "outputs": [
        {
          "output_type": "execute_result",
          "data": {
            "text/plain": [
              "192"
            ]
          },
          "metadata": {
            "tags": []
          },
          "execution_count": 16
        }
      ]
    },
    {
      "cell_type": "markdown",
      "metadata": {
        "id": "xmJYENb3clSk"
      },
      "source": [
        "## Emotion : suprise"
      ]
    },
    {
      "cell_type": "code",
      "metadata": {
        "colab": {
          "base_uri": "https://localhost:8080/"
        },
        "id": "WS6gecU8cguS",
        "outputId": "96d5c43c-24a9-4f08-8232-1e0812df238c"
      },
      "source": [
        "listeFichiers = []\n",
        "monRepertoire= '/content/drive/My Drive/Colab Notebooks/Emotion_detection/Emo_Data/surprise/'\n",
        "for (repertoire, sousRepertoires, fichiers) in walk(monRepertoire):\n",
        " listeFichiers.extend(fichiers)\n",
        "Pitch_surprise=[]\n",
        "length_Pitch_surprise=[]\n",
        "for i in range(len(listeFichiers)):\n",
        "  data, sampling_rate = librosa.load(\"/content/drive/My Drive/Colab Notebooks/Emotion_detection/Emo_Data/surprise/\"+str(listeFichiers[i]),sr=8000)\n",
        "  sns.set() \n",
        "  snd= parselmouth.Sound(data,sampling_frequency=8000.0) \n",
        "  pitch = snd.to_pitch(time_step=0.016)\n",
        "  pitch_values = pitch.selected_array['frequency']\n",
        "  length_Pitch_surprise.append(len(pitch_values))\n",
        "  Pitch_surprise.append(pitch_values)\n",
        "%time"
      ],
      "execution_count": 17,
      "outputs": [
        {
          "output_type": "stream",
          "text": [
            "CPU times: user 3 µs, sys: 0 ns, total: 3 µs\n",
            "Wall time: 6.68 µs\n"
          ],
          "name": "stdout"
        }
      ]
    },
    {
      "cell_type": "code",
      "metadata": {
        "colab": {
          "base_uri": "https://localhost:8080/"
        },
        "id": "m1tcWTEcSO_G",
        "outputId": "91666d3d-6d3f-4c1f-9d34-7a2e8143b008"
      },
      "source": [
        "min(length_Pitch_surprise)"
      ],
      "execution_count": 18,
      "outputs": [
        {
          "output_type": "execute_result",
          "data": {
            "text/plain": [
              "190"
            ]
          },
          "metadata": {
            "tags": []
          },
          "execution_count": 18
        }
      ]
    },
    {
      "cell_type": "code",
      "metadata": {
        "colab": {
          "base_uri": "https://localhost:8080/"
        },
        "id": "Y4PDBxBnff9a",
        "outputId": "d2510e58-83ab-4a5f-9cbc-71b3fa0cbcdd"
      },
      "source": [
        "length_Pitch_surprise.index(min(length_Pitch_surprise))"
      ],
      "execution_count": 19,
      "outputs": [
        {
          "output_type": "execute_result",
          "data": {
            "text/plain": [
              "32"
            ]
          },
          "metadata": {
            "tags": []
          },
          "execution_count": 19
        }
      ]
    },
    {
      "cell_type": "markdown",
      "metadata": {
        "id": "UtuEcoM4dI91"
      },
      "source": [
        "## Emotion : neutre"
      ]
    },
    {
      "cell_type": "code",
      "metadata": {
        "colab": {
          "base_uri": "https://localhost:8080/"
        },
        "id": "IpXtRtwbc9hY",
        "outputId": "3eac4c00-401f-4954-fb7d-452ec1b09a8a"
      },
      "source": [
        "listeFichiers = []\n",
        "monRepertoire= '/content/drive/My Drive/Colab Notebooks/Emotion_detection/Emo_Data/Neutral/'\n",
        "for (repertoire, sousRepertoires, fichiers) in walk(monRepertoire):\n",
        " listeFichiers.extend(fichiers)\n",
        "Pitch_Neutral=[]\n",
        "length_Pitch_Neutral=[]\n",
        "for i in range(len(listeFichiers)):\n",
        "  data, sampling_rate = librosa.load('/content/drive/My Drive/Colab Notebooks/Emotion_detection/Emo_Data/Neutral/'+ str(listeFichiers[i]),sr=8000)\n",
        "  sns.set() \n",
        "  snd= parselmouth.Sound(data,sampling_frequency=8000.0) \n",
        "  pitch = snd.to_pitch(time_step=0.016)\n",
        "  pitch_values = pitch.selected_array['frequency']\n",
        "  length_Pitch_Neutral.append(len(pitch_values))\n",
        "  Pitch_Neutral.append(pitch_values)\n",
        "%time"
      ],
      "execution_count": 21,
      "outputs": [
        {
          "output_type": "stream",
          "text": [
            "CPU times: user 3 µs, sys: 0 ns, total: 3 µs\n",
            "Wall time: 6.44 µs\n"
          ],
          "name": "stdout"
        }
      ]
    },
    {
      "cell_type": "code",
      "metadata": {
        "colab": {
          "base_uri": "https://localhost:8080/"
        },
        "id": "fcVM6wcVg1A0",
        "outputId": "cc99d589-0f18-456d-eb9c-9ccb9ec8bc86"
      },
      "source": [
        "len(Pitch_Neutral)"
      ],
      "execution_count": 22,
      "outputs": [
        {
          "output_type": "execute_result",
          "data": {
            "text/plain": [
              "48"
            ]
          },
          "metadata": {
            "tags": []
          },
          "execution_count": 22
        }
      ]
    },
    {
      "cell_type": "code",
      "metadata": {
        "colab": {
          "base_uri": "https://localhost:8080/"
        },
        "id": "8_gJQbNnfjDk",
        "outputId": "25b90eb3-ff45-4d40-e165-aa8694f44049"
      },
      "source": [
        "min(length_Pitch_Neutral)"
      ],
      "execution_count": 23,
      "outputs": [
        {
          "output_type": "execute_result",
          "data": {
            "text/plain": [
              "192"
            ]
          },
          "metadata": {
            "tags": []
          },
          "execution_count": 23
        }
      ]
    },
    {
      "cell_type": "markdown",
      "metadata": {
        "id": "C2qgutWFgL4Q"
      },
      "source": [
        "# mfcc\n"
      ]
    },
    {
      "cell_type": "code",
      "metadata": {
        "colab": {
          "base_uri": "https://localhost:8080/"
        },
        "id": "RD5PyMH0fA9B",
        "outputId": "d2491a64-5e93-461c-8ad7-1310621ca3cb"
      },
      "source": [
        "listeFichiers = []\n",
        "monRepertoire= '/content/drive/My Drive/Colab Notebooks/Emotion_detection/Emo_Data/anger/'\n",
        "for (repertoire, sousRepertoires, fichiers) in walk(monRepertoire):\n",
        " listeFichiers.extend(fichiers)\n",
        "MFCC_Anger=[]\n",
        "length_MFCC_Anger=[]\n",
        "for i in range(len(listeFichiers)):\n",
        "  data, sampling_rate = librosa.load(\"/content/drive/My Drive/Colab Notebooks/Emotion_detection/Emo_Data/anger/\"+str(listeFichiers[i]),sr=8000)\n",
        "  mfccs= librosa.feature.mfcc(data, sr=sampling_rate, n_mfcc=12, n_fft=128, hop_length=128) #nfft=E(0.016 ms * 8000Hz)\n",
        "  MFCC_Anger.append(mfccs)\n",
        "  length_MFCC_Anger.append(len(mfccs))\n",
        "%time\n",
        "\n",
        "  \n"
      ],
      "execution_count": 24,
      "outputs": [
        {
          "output_type": "stream",
          "text": [
            "/usr/local/lib/python3.7/dist-packages/librosa/filters.py:239: UserWarning: Empty filters detected in mel frequency basis. Some channels will produce empty responses. Try increasing your sampling rate (and fmax) or reducing n_mels.\n",
            "  \"Empty filters detected in mel frequency basis. \"\n"
          ],
          "name": "stderr"
        },
        {
          "output_type": "stream",
          "text": [
            "CPU times: user 0 ns, sys: 8 µs, total: 8 µs\n",
            "Wall time: 9.06 µs\n"
          ],
          "name": "stdout"
        }
      ]
    },
    {
      "cell_type": "code",
      "metadata": {
        "colab": {
          "base_uri": "https://localhost:8080/"
        },
        "id": "vDwtLM90gKuh",
        "outputId": "94a6f25a-520c-4dfd-9c35-cf098eb65f7c"
      },
      "source": [
        "listeFichiers = []\n",
        "monRepertoire= '/content/drive/My Drive/Colab Notebooks/Emotion_detection/Emo_Data/calm/'\n",
        "for (repertoire, sousRepertoires, fichiers) in walk(monRepertoire):\n",
        " listeFichiers.extend(fichiers)\n",
        "MFCC_Calm=[]\n",
        "length_MFCC_Calm=[]\n",
        "for i in range(len(listeFichiers)):\n",
        "  data, sampling_rate = librosa.load(\"/content/drive/My Drive/Colab Notebooks/Emotion_detection/Emo_Data/calm/\"+str(listeFichiers[i]),sr=8000)\n",
        "  mfccs= librosa.feature.mfcc(data, sr=sampling_rate, n_mfcc=12, n_fft=128, hop_length=128) #nfft=E(0.016 ms * 8000Hz)\n",
        "  MFCC_Calm.append(mfccs)\n",
        "  length_MFCC_Calm.append(len(mfccs))\n",
        "%time"
      ],
      "execution_count": 25,
      "outputs": [
        {
          "output_type": "stream",
          "text": [
            "/usr/local/lib/python3.7/dist-packages/librosa/filters.py:239: UserWarning: Empty filters detected in mel frequency basis. Some channels will produce empty responses. Try increasing your sampling rate (and fmax) or reducing n_mels.\n",
            "  \"Empty filters detected in mel frequency basis. \"\n"
          ],
          "name": "stderr"
        },
        {
          "output_type": "stream",
          "text": [
            "CPU times: user 7 µs, sys: 1 µs, total: 8 µs\n",
            "Wall time: 7.39 µs\n"
          ],
          "name": "stdout"
        }
      ]
    },
    {
      "cell_type": "code",
      "metadata": {
        "colab": {
          "base_uri": "https://localhost:8080/"
        },
        "id": "bSdz_iAkizkk",
        "outputId": "ff39098d-5760-451e-a2eb-3c8fed59f959"
      },
      "source": [
        "listeFichiers = []\n",
        "monRepertoire= '/content/drive/My Drive/Colab Notebooks/Emotion_detection/Emo_Data/disgust/'\n",
        "for (repertoire, sousRepertoires, fichiers) in walk(monRepertoire):\n",
        " listeFichiers.extend(fichiers)\n",
        "MFCC_disgust=[]\n",
        "length_MFCC_disgust=[]\n",
        "for i in range(len(listeFichiers)):\n",
        "  data, sampling_rate = librosa.load(\"/content/drive/My Drive/Colab Notebooks/Emotion_detection/Emo_Data/disgust/\"+str(listeFichiers[i]),sr=8000)\n",
        "  mfccs= librosa.feature.mfcc(data, sr=sampling_rate, n_mfcc=12, n_fft=128, hop_length=128) #nfft=E(0.016 ms * 8000Hz)\n",
        "  MFCC_disgust.append(mfccs)\n",
        "  length_MFCC_disgust.append(len(mfccs))\n",
        "%time"
      ],
      "execution_count": 26,
      "outputs": [
        {
          "output_type": "stream",
          "text": [
            "/usr/local/lib/python3.7/dist-packages/librosa/filters.py:239: UserWarning: Empty filters detected in mel frequency basis. Some channels will produce empty responses. Try increasing your sampling rate (and fmax) or reducing n_mels.\n",
            "  \"Empty filters detected in mel frequency basis. \"\n"
          ],
          "name": "stderr"
        },
        {
          "output_type": "stream",
          "text": [
            "CPU times: user 6 µs, sys: 0 ns, total: 6 µs\n",
            "Wall time: 8.34 µs\n"
          ],
          "name": "stdout"
        }
      ]
    },
    {
      "cell_type": "code",
      "metadata": {
        "colab": {
          "base_uri": "https://localhost:8080/"
        },
        "id": "HCynHTDzjDyW",
        "outputId": "141567ac-fba4-4097-884c-641bf74d4aae"
      },
      "source": [
        "listeFichiers = []\n",
        "monRepertoire= '/content/drive/My Drive/Colab Notebooks/Emotion_detection/Emo_Data/fear/'\n",
        "for (repertoire, sousRepertoires, fichiers) in walk(monRepertoire):\n",
        " listeFichiers.extend(fichiers)\n",
        "MFCC_fear=[]\n",
        "length_MFCC_fear=[]\n",
        "for i in range(len(listeFichiers)):\n",
        "  data, sampling_rate = librosa.load(\"/content/drive/My Drive/Colab Notebooks/Emotion_detection/Emo_Data/fear/\"+str(listeFichiers[i]),sr=8000)\n",
        "  mfccs= librosa.feature.mfcc(data, sr=sampling_rate, n_mfcc=12, n_fft=128, hop_length=128) #nfft=E(0.016 ms * 8000Hz)\n",
        "  MFCC_fear.append(mfccs)\n",
        "  length_MFCC_fear.append(len(mfccs))\n",
        "%time"
      ],
      "execution_count": 27,
      "outputs": [
        {
          "output_type": "stream",
          "text": [
            "/usr/local/lib/python3.7/dist-packages/librosa/filters.py:239: UserWarning: Empty filters detected in mel frequency basis. Some channels will produce empty responses. Try increasing your sampling rate (and fmax) or reducing n_mels.\n",
            "  \"Empty filters detected in mel frequency basis. \"\n"
          ],
          "name": "stderr"
        },
        {
          "output_type": "stream",
          "text": [
            "CPU times: user 6 µs, sys: 1e+03 ns, total: 7 µs\n",
            "Wall time: 7.63 µs\n"
          ],
          "name": "stdout"
        }
      ]
    },
    {
      "cell_type": "code",
      "metadata": {
        "colab": {
          "base_uri": "https://localhost:8080/"
        },
        "id": "brjtH4TZiM4M",
        "outputId": "4010e465-e096-4173-9e7f-651cff8c9941"
      },
      "source": [
        "listeFichiers = []\n",
        "monRepertoire= '/content/drive/My Drive/Colab Notebooks/Emotion_detection/Emo_Data/happiness/'\n",
        "for (repertoire, sousRepertoires, fichiers) in walk(monRepertoire):\n",
        " listeFichiers.extend(fichiers)\n",
        "MFCC_happiness=[]\n",
        "length_MFCC_happiness=[]\n",
        "for i in range(len(listeFichiers)):\n",
        "  data, sampling_rate = librosa.load(\"/content/drive/My Drive/Colab Notebooks/Emotion_detection/Emo_Data/happiness/\"+str(listeFichiers[i]),sr=8000)\n",
        "  mfccs= librosa.feature.mfcc(data, sr=sampling_rate, n_mfcc=12, n_fft=128, hop_length=128) #nfft=E(0.016 ms * 8000Hz)\n",
        "  MFCC_happiness.append(mfccs)\n",
        "  length_MFCC_happiness.append(len(mfccs))\n",
        "%time"
      ],
      "execution_count": 28,
      "outputs": [
        {
          "output_type": "stream",
          "text": [
            "/usr/local/lib/python3.7/dist-packages/librosa/filters.py:239: UserWarning: Empty filters detected in mel frequency basis. Some channels will produce empty responses. Try increasing your sampling rate (and fmax) or reducing n_mels.\n",
            "  \"Empty filters detected in mel frequency basis. \"\n"
          ],
          "name": "stderr"
        },
        {
          "output_type": "stream",
          "text": [
            "CPU times: user 9 µs, sys: 2 µs, total: 11 µs\n",
            "Wall time: 10.3 µs\n"
          ],
          "name": "stdout"
        }
      ]
    },
    {
      "cell_type": "code",
      "metadata": {
        "colab": {
          "base_uri": "https://localhost:8080/"
        },
        "id": "xpZTwG6vmZBV",
        "outputId": "91ab93b8-9493-4326-8606-cc22bbfd7fd1"
      },
      "source": [
        "listeFichiers = []\n",
        "monRepertoire= '/content/drive/My Drive/Colab Notebooks/Emotion_detection/Emo_Data/surprise/'\n",
        "for (repertoire, sousRepertoires, fichiers) in walk(monRepertoire):\n",
        " listeFichiers.extend(fichiers)\n",
        "MFCC_surprise=[]\n",
        "length_MFCC_surprise=[]\n",
        "for i in range(len(listeFichiers)):\n",
        "  data, sampling_rate = librosa.load(\"/content/drive/My Drive/Colab Notebooks/Emotion_detection/Emo_Data/surprise/\"+str(listeFichiers[i]),sr=8000)\n",
        "  mfccs= librosa.feature.mfcc(data, sr=sampling_rate, n_mfcc=12, n_fft=128, hop_length=128) #nfft=E(0.016 ms * 8000Hz)\n",
        "  MFCC_surprise.append(mfccs)\n",
        "  length_MFCC_surprise.append(mfccs.shape)\n",
        "%time"
      ],
      "execution_count": 29,
      "outputs": [
        {
          "output_type": "stream",
          "text": [
            "/usr/local/lib/python3.7/dist-packages/librosa/filters.py:239: UserWarning: Empty filters detected in mel frequency basis. Some channels will produce empty responses. Try increasing your sampling rate (and fmax) or reducing n_mels.\n",
            "  \"Empty filters detected in mel frequency basis. \"\n"
          ],
          "name": "stderr"
        },
        {
          "output_type": "stream",
          "text": [
            "CPU times: user 0 ns, sys: 16 µs, total: 16 µs\n",
            "Wall time: 14.5 µs\n"
          ],
          "name": "stdout"
        }
      ]
    },
    {
      "cell_type": "code",
      "metadata": {
        "colab": {
          "base_uri": "https://localhost:8080/"
        },
        "id": "jd-2paG1jsNE",
        "outputId": "14bc2c45-3680-4a88-d36f-3193442bc098"
      },
      "source": [
        "listeFichiers = []\n",
        "monRepertoire= '/content/drive/My Drive/Colab Notebooks/Emotion_detection/Emo_Data/sadness/'\n",
        "for (repertoire, sousRepertoires, fichiers) in walk(monRepertoire):\n",
        " listeFichiers.extend(fichiers)\n",
        "MFCC_sadness=[]\n",
        "length_MFCC_sadness=[]\n",
        "for i in range(len(listeFichiers)):\n",
        "  data, sampling_rate = librosa.load(\"/content/drive/My Drive/Colab Notebooks/Emotion_detection/Emo_Data/sadness/\"+str(listeFichiers[i]),sr=8000)\n",
        "  mfccs= librosa.feature.mfcc(data, sr=sampling_rate, n_mfcc=12, n_fft=128, hop_length=128) #nfft=E(0.016 ms * 8000Hz)\n",
        "  MFCC_sadness.append(mfccs)\n",
        "  length_MFCC_sadness.append(len(mfccs))\n",
        "%time"
      ],
      "execution_count": 30,
      "outputs": [
        {
          "output_type": "stream",
          "text": [
            "/usr/local/lib/python3.7/dist-packages/librosa/filters.py:239: UserWarning: Empty filters detected in mel frequency basis. Some channels will produce empty responses. Try increasing your sampling rate (and fmax) or reducing n_mels.\n",
            "  \"Empty filters detected in mel frequency basis. \"\n"
          ],
          "name": "stderr"
        },
        {
          "output_type": "stream",
          "text": [
            "CPU times: user 6 µs, sys: 1e+03 ns, total: 7 µs\n",
            "Wall time: 9.06 µs\n"
          ],
          "name": "stdout"
        }
      ]
    },
    {
      "cell_type": "code",
      "metadata": {
        "colab": {
          "base_uri": "https://localhost:8080/"
        },
        "id": "NCRwVueRtN8h",
        "outputId": "6b56a537-e2b8-447f-c906-3ce0e4bfcca8"
      },
      "source": [
        "listeFichiers = []\n",
        "monRepertoire= '/content/drive/My Drive/Colab Notebooks/Emotion_detection/Emo_Data/Neutral/'\n",
        "for (repertoire, sousRepertoires, fichiers) in walk(monRepertoire):\n",
        " listeFichiers.extend(fichiers)\n",
        "MFCC_Neutral=[]\n",
        "length_MFCC_neutral=[]\n",
        "for i in range(len(listeFichiers)):\n",
        "  data, sampling_rate = librosa.load(\"/content/drive/My Drive/Colab Notebooks/Emotion_detection/Emo_Data/Neutral/\"+str(listeFichiers[i]),sr=8000)\n",
        "  mfccs= librosa.feature.mfcc(data, sr=sampling_rate, n_mfcc=12, n_fft=128, hop_length=128) #nfft=E(0.016 ms * 8000Hz)\n",
        "  MFCC_Neutral.append(mfccs)\n",
        "  length_MFCC_neutral.append(len(mfccs))\n",
        "%time"
      ],
      "execution_count": 31,
      "outputs": [
        {
          "output_type": "stream",
          "text": [
            "/usr/local/lib/python3.7/dist-packages/librosa/filters.py:239: UserWarning: Empty filters detected in mel frequency basis. Some channels will produce empty responses. Try increasing your sampling rate (and fmax) or reducing n_mels.\n",
            "  \"Empty filters detected in mel frequency basis. \"\n"
          ],
          "name": "stderr"
        },
        {
          "output_type": "stream",
          "text": [
            "CPU times: user 2 µs, sys: 1e+03 ns, total: 3 µs\n",
            "Wall time: 5.48 µs\n"
          ],
          "name": "stdout"
        }
      ]
    },
    {
      "cell_type": "markdown",
      "metadata": {
        "id": "qZqoDfBbkT6x"
      },
      "source": [
        "## DTW"
      ]
    },
    {
      "cell_type": "code",
      "metadata": {
        "colab": {
          "base_uri": "https://localhost:8080/"
        },
        "id": "lm2rPstikJcj",
        "outputId": "d3629c1f-aee7-491b-c943-0141edba36bb"
      },
      "source": [
        "!pip install dtaidistance"
      ],
      "execution_count": 32,
      "outputs": [
        {
          "output_type": "stream",
          "text": [
            "Collecting dtaidistance\n",
            "\u001b[?25l  Downloading https://files.pythonhosted.org/packages/d6/ae/3b33bb905c018e7d6782652c3277f48003bfb380c22412fbe50ef48a5af3/dtaidistance-2.2.5.tar.gz (932kB)\n",
            "\u001b[K     |████████████████████████████████| 942kB 4.9MB/s \n",
            "\u001b[?25h  Installing build dependencies ... \u001b[?25l\u001b[?25hdone\n",
            "  Getting requirements to build wheel ... \u001b[?25l\u001b[?25hdone\n",
            "    Preparing wheel metadata ... \u001b[?25l\u001b[?25hdone\n",
            "Requirement already satisfied: cython>=0.29.6 in /usr/local/lib/python3.7/dist-packages (from dtaidistance) (0.29.22)\n",
            "Building wheels for collected packages: dtaidistance\n",
            "  Building wheel for dtaidistance (PEP 517) ... \u001b[?25l\u001b[?25hdone\n",
            "  Created wheel for dtaidistance: filename=dtaidistance-2.2.5-cp37-cp37m-linux_x86_64.whl size=1552459 sha256=bef421892fc1f2751340219b8031558fbc0a3d39dc35aa6535433d9ed3f6ec53\n",
            "  Stored in directory: /root/.cache/pip/wheels/f8/37/a3/5b68a20ca502772e5affea6be75bf964ad9f481fdc54f28627\n",
            "Successfully built dtaidistance\n",
            "Installing collected packages: dtaidistance\n",
            "Successfully installed dtaidistance-2.2.5\n"
          ],
          "name": "stdout"
        }
      ]
    },
    {
      "cell_type": "code",
      "metadata": {
        "id": "Wl6d4aShkXnl"
      },
      "source": [
        "from dtaidistance import dtw_ndim\n",
        "from dtaidistance import dtw\n",
        "from dtaidistance import dtw_visualisation as dtwvis\n",
        "import random"
      ],
      "execution_count": 33,
      "outputs": []
    },
    {
      "cell_type": "code",
      "metadata": {
        "id": "M1SVuArnkfn_"
      },
      "source": [
        "reference=MFCC_surprise[32]"
      ],
      "execution_count": 34,
      "outputs": []
    },
    {
      "cell_type": "code",
      "metadata": {
        "colab": {
          "base_uri": "https://localhost:8080/"
        },
        "id": "1hHxifDSOaAV",
        "outputId": "42b901eb-01e2-45bb-b31d-395ab7a25dfe"
      },
      "source": [
        "reference.shape"
      ],
      "execution_count": 35,
      "outputs": [
        {
          "output_type": "execute_result",
          "data": {
            "text/plain": [
              "(12, 192)"
            ]
          },
          "metadata": {
            "tags": []
          },
          "execution_count": 35
        }
      ]
    },
    {
      "cell_type": "markdown",
      "metadata": {
        "id": "CPYRchY2bFsa"
      },
      "source": [
        "Anger - reference suprise"
      ]
    },
    {
      "cell_type": "code",
      "metadata": {
        "colab": {
          "base_uri": "https://localhost:8080/"
        },
        "id": "4xNCwZqETn5q",
        "outputId": "763b9eb2-a74e-47a0-8795-52b317acdd5d"
      },
      "source": [
        "best_path_Anger=[]\n",
        "for i in range (len(MFCC_Anger)):\n",
        "  d, paths = dtw_ndim.warping_paths(reference.T, MFCC_Anger[i].T)\n",
        "  best_path = dtw.best_path(paths)\n",
        "  best_path_Anger.append(best_path)\n",
        "#dtwvis.plot_warpingpaths(reference.T, mfccs_cible.T,paths, best_path)\n",
        "%time\n"
      ],
      "execution_count": 36,
      "outputs": [
        {
          "output_type": "stream",
          "text": [
            "CPU times: user 3 µs, sys: 0 ns, total: 3 µs\n",
            "Wall time: 5.72 µs\n"
          ],
          "name": "stdout"
        }
      ]
    },
    {
      "cell_type": "code",
      "metadata": {
        "colab": {
          "base_uri": "https://localhost:8080/"
        },
        "id": "rGFo1sqrbes7",
        "outputId": "28fc6b1d-5cc3-46d9-9f72-3a242c9ec545"
      },
      "source": [
        "len(best_path_Anger)"
      ],
      "execution_count": 37,
      "outputs": [
        {
          "output_type": "execute_result",
          "data": {
            "text/plain": [
              "96"
            ]
          },
          "metadata": {
            "tags": []
          },
          "execution_count": 37
        }
      ]
    },
    {
      "cell_type": "markdown",
      "metadata": {
        "id": "RFgDtbo4mJrb"
      },
      "source": [
        "Disgust - refernce surprise"
      ]
    },
    {
      "cell_type": "code",
      "metadata": {
        "colab": {
          "base_uri": "https://localhost:8080/"
        },
        "id": "ctsP0dw-mSua",
        "outputId": "4b8307b6-1807-4952-cb70-bcce9580bfe6"
      },
      "source": [
        "best_path_Disgust=[]\n",
        "for i in range (len(MFCC_disgust)):\n",
        "  d, paths = dtw_ndim.warping_paths(reference.T, MFCC_disgust[i].T)\n",
        "  best_path = dtw.best_path(paths)\n",
        "  best_path_Disgust.append(best_path)\n",
        "#dtwvis.plot_warpingpaths(reference.T, mfccs_cible.T,paths, best_path)\n",
        "%time\n"
      ],
      "execution_count": 38,
      "outputs": [
        {
          "output_type": "stream",
          "text": [
            "CPU times: user 2 µs, sys: 1e+03 ns, total: 3 µs\n",
            "Wall time: 5.72 µs\n"
          ],
          "name": "stdout"
        }
      ]
    },
    {
      "cell_type": "markdown",
      "metadata": {
        "id": "BRKreisvs4tX"
      },
      "source": [
        "Calm -refernece surprise"
      ]
    },
    {
      "cell_type": "code",
      "metadata": {
        "colab": {
          "base_uri": "https://localhost:8080/"
        },
        "id": "RSfD_fXYd_Pe",
        "outputId": "8d331989-c1ec-4b0e-f32a-922b478150b9"
      },
      "source": [
        "best_path_Calm=[]\n",
        "for i in range (len(MFCC_Calm)):\n",
        "  d, paths = dtw_ndim.warping_paths(reference.T, MFCC_Calm[i].T)\n",
        "  best_path = dtw.best_path(paths)\n",
        "  best_path_Calm.append(best_path)\n",
        "#dtwvis.plot_warpingpaths(reference.T, mfccs_cible.T,paths, best_path)\n",
        "%time"
      ],
      "execution_count": 39,
      "outputs": [
        {
          "output_type": "stream",
          "text": [
            "CPU times: user 3 µs, sys: 0 ns, total: 3 µs\n",
            "Wall time: 6.68 µs\n"
          ],
          "name": "stdout"
        }
      ]
    },
    {
      "cell_type": "code",
      "metadata": {
        "colab": {
          "base_uri": "https://localhost:8080/"
        },
        "id": "LC-MbMx9LL_7",
        "outputId": "b4355fa5-c4f0-4a4d-c35f-1c218fc174c6"
      },
      "source": [
        "len(best_path_Calm)"
      ],
      "execution_count": 40,
      "outputs": [
        {
          "output_type": "execute_result",
          "data": {
            "text/plain": [
              "96"
            ]
          },
          "metadata": {
            "tags": []
          },
          "execution_count": 40
        }
      ]
    },
    {
      "cell_type": "markdown",
      "metadata": {
        "id": "Q2I8ZLSHj3WX"
      },
      "source": [
        "Fear - reference suprise"
      ]
    },
    {
      "cell_type": "code",
      "metadata": {
        "colab": {
          "base_uri": "https://localhost:8080/"
        },
        "id": "Lw92vk47j2fo",
        "outputId": "6da53076-328d-4707-932d-bd4e3bea4459"
      },
      "source": [
        "best_path_fear=[]\n",
        "for i in range (len(MFCC_fear)):\n",
        "  d, paths = dtw_ndim.warping_paths(reference.T, MFCC_fear[i].T)\n",
        "  best_path = dtw.best_path(paths)\n",
        "  best_path_fear.append(best_path)\n",
        "#dtwvis.plot_warpingpaths(reference.T, mfccs_cible.T,paths, best_path)\n",
        "%time"
      ],
      "execution_count": 41,
      "outputs": [
        {
          "output_type": "stream",
          "text": [
            "CPU times: user 3 µs, sys: 1e+03 ns, total: 4 µs\n",
            "Wall time: 6.44 µs\n"
          ],
          "name": "stdout"
        }
      ]
    },
    {
      "cell_type": "markdown",
      "metadata": {
        "id": "QbgnxZbEkst4"
      },
      "source": [
        "Happiness - reference suprise"
      ]
    },
    {
      "cell_type": "code",
      "metadata": {
        "colab": {
          "base_uri": "https://localhost:8080/"
        },
        "id": "VeKMYtYGkLYf",
        "outputId": "f3b452e6-a2af-4a59-f9e5-d180e54f8ce0"
      },
      "source": [
        "best_path_happiness=[]\n",
        "for i in range (len(MFCC_happiness)):\n",
        "  d, paths = dtw_ndim.warping_paths(reference.T, MFCC_happiness[i].T)\n",
        "  best_path = dtw.best_path(paths)\n",
        "  best_path_happiness.append(best_path)\n",
        "#dtwvis.plot_warpingpaths(reference.T, mfccs_cible.T,paths, best_path)\n",
        "%time"
      ],
      "execution_count": 42,
      "outputs": [
        {
          "output_type": "stream",
          "text": [
            "CPU times: user 3 µs, sys: 0 ns, total: 3 µs\n",
            "Wall time: 5.96 µs\n"
          ],
          "name": "stdout"
        }
      ]
    },
    {
      "cell_type": "markdown",
      "metadata": {
        "id": "Ycuqa6t8lKuV"
      },
      "source": [
        "sadness -  reference suprise"
      ]
    },
    {
      "cell_type": "code",
      "metadata": {
        "colab": {
          "base_uri": "https://localhost:8080/"
        },
        "id": "gvp0DiSck749",
        "outputId": "e624f306-e9ad-467e-b688-2de9fe000251"
      },
      "source": [
        "best_path_sadness=[]\n",
        "for i in range (len(MFCC_sadness)):\n",
        "  d, paths = dtw_ndim.warping_paths(reference.T, MFCC_sadness[i].T)\n",
        "  best_path = dtw.best_path(paths)\n",
        "  best_path_sadness.append(best_path)\n",
        "#dtwvis.plot_warpingpaths(reference.T, mfccs_cible.T,paths, best_path)\n",
        "%time"
      ],
      "execution_count": 43,
      "outputs": [
        {
          "output_type": "stream",
          "text": [
            "CPU times: user 4 µs, sys: 0 ns, total: 4 µs\n",
            "Wall time: 8.58 µs\n"
          ],
          "name": "stdout"
        }
      ]
    },
    {
      "cell_type": "markdown",
      "metadata": {
        "id": "n5ebdOc8l7sG"
      },
      "source": [
        "surprise -  reference suprise"
      ]
    },
    {
      "cell_type": "code",
      "metadata": {
        "colab": {
          "base_uri": "https://localhost:8080/"
        },
        "id": "lyJ5ZWzylihh",
        "outputId": "e9c8e531-12e1-4f7d-e6a6-ffd5bfa9d66e"
      },
      "source": [
        "best_path_surprise=[]\n",
        "for i in range (len(MFCC_surprise)):\n",
        "  d, paths = dtw_ndim.warping_paths(reference.T, MFCC_surprise[i].T)\n",
        "  best_path = dtw.best_path(paths)\n",
        "  best_path_surprise.append(best_path)\n",
        "#dtwvis.plot_warpingpaths(reference.T, mfccs_cible.T,paths, best_path)\n",
        "%time"
      ],
      "execution_count": 44,
      "outputs": [
        {
          "output_type": "stream",
          "text": [
            "CPU times: user 2 µs, sys: 0 ns, total: 2 µs\n",
            "Wall time: 6.44 µs\n"
          ],
          "name": "stdout"
        }
      ]
    },
    {
      "cell_type": "code",
      "metadata": {
        "colab": {
          "base_uri": "https://localhost:8080/"
        },
        "id": "IaMW1DtuoRjr",
        "outputId": "7ecf8669-e395-4b62-a109-60357c2a1640"
      },
      "source": [
        "len(MFCC_surprise)"
      ],
      "execution_count": 45,
      "outputs": [
        {
          "output_type": "execute_result",
          "data": {
            "text/plain": [
              "96"
            ]
          },
          "metadata": {
            "tags": []
          },
          "execution_count": 45
        }
      ]
    },
    {
      "cell_type": "markdown",
      "metadata": {
        "id": "Mqzcbfybs9Yg"
      },
      "source": [
        "Neutral - reference surprise\n"
      ]
    },
    {
      "cell_type": "code",
      "metadata": {
        "colab": {
          "base_uri": "https://localhost:8080/"
        },
        "id": "pqm_WQzCtBvl",
        "outputId": "774b79b6-0f52-4a88-a500-8f73a790fb87"
      },
      "source": [
        "best_path_Neutral=[]\n",
        "for i in range (len(MFCC_Neutral)):\n",
        "  d, paths = dtw_ndim.warping_paths(reference.T, MFCC_Neutral[i].T)\n",
        "  best_path = dtw.best_path(paths)\n",
        "  best_path_Neutral.append(best_path)\n",
        "#dtwvis.plot_warpingpaths(reference.T, mfccs_cible.T,paths, best_path)\n",
        "%time"
      ],
      "execution_count": 46,
      "outputs": [
        {
          "output_type": "stream",
          "text": [
            "CPU times: user 2 µs, sys: 0 ns, total: 2 µs\n",
            "Wall time: 6.2 µs\n"
          ],
          "name": "stdout"
        }
      ]
    },
    {
      "cell_type": "markdown",
      "metadata": {
        "id": "dZpf8P3iwWAZ"
      },
      "source": [
        "## Synchronisation"
      ]
    },
    {
      "cell_type": "markdown",
      "metadata": {
        "id": "bmOBlkjSyvjC"
      },
      "source": [
        "## Anger DataBase"
      ]
    },
    {
      "cell_type": "code",
      "metadata": {
        "id": "fMRn5E-i7RIP"
      },
      "source": [
        "best_paths_Anger=[]\n",
        "for i in range (len(best_path_Anger)):\n",
        "  L=[]\n",
        "  for j in range(len(best_path_Anger[i])):\n",
        "    if((best_path_Anger[i][j][0]<len(Pitch_surprise[32]))&(best_path_Anger[i][j][1]<(best_path_Anger[i][len(best_path_Anger[i])-1][1]-2))):\n",
        "      L.append(best_path_Anger[i][j])\n",
        "  best_paths_Anger.append(L)\n"
      ],
      "execution_count": 47,
      "outputs": []
    },
    {
      "cell_type": "code",
      "metadata": {
        "id": "DhuG_hoxG0su"
      },
      "source": [
        "Anger_Dict=[]\n",
        "Anger_synchro={}\n",
        "for i in range (len(Pitch_surprise[32])):\n",
        "  Anger_synchro[i]=[]\n",
        "for k in range (len(best_paths_Anger)):\n",
        "  Anger_synchro={}\n",
        "  for i in range (len(Pitch_surprise[32])):\n",
        "    Anger_synchro[i]=[]\n",
        "  for j in range (len(best_paths_Anger[k])):\n",
        "    Anger_synchro[best_paths_Anger[k][j][0]].append(best_paths_Anger[k][j][1])\n",
        "  Anger_Dict.append(Anger_synchro)"
      ],
      "execution_count": 48,
      "outputs": []
    },
    {
      "cell_type": "code",
      "metadata": {
        "id": "I8GQe9ZUYs_a"
      },
      "source": [
        "Anger_Dict_Anger=[]\n",
        "for i in range (len(best_paths_Anger)):\n",
        "  Anger_synchro={}\n",
        "  for j in range (len(Pitch_surprise[32])):\n",
        "    Anger_synchro[j]=[]\n",
        "  Anger_Dict_Anger.append(Anger_synchro)"
      ],
      "execution_count": 49,
      "outputs": []
    },
    {
      "cell_type": "code",
      "metadata": {
        "id": "McsqpkpTlduw"
      },
      "source": [
        "for j in range (len(Anger_Dict)):\n",
        "  for i in range (len(Anger_Dict[j])):\n",
        "    for k in range(len(Anger_Dict[j][i])):\n",
        "      Anger_Dict_Anger[j][i].append(Pitch_Anger[j][Anger_Dict[j][i][k]])"
      ],
      "execution_count": 50,
      "outputs": []
    },
    {
      "cell_type": "code",
      "metadata": {
        "id": "Biytxf0enSCW"
      },
      "source": [
        "from statistics import mean\n",
        "list_Pitch=[]\n",
        "for i in range (len(Anger_Dict_Anger)):\n",
        "  list_Pitch.append(Anger_Dict_Anger[i].values())"
      ],
      "execution_count": 51,
      "outputs": []
    },
    {
      "cell_type": "code",
      "metadata": {
        "id": "AKRzghAqnRZe"
      },
      "source": [
        "list_pitch2=[]\n",
        "for i in range(len(list_Pitch)):\n",
        "  list_pitch2.append(list(list_Pitch[i]))\n",
        "Pitch_Anger_aligned_moy=[]\n",
        "for i in range(len(list_pitch2)):\n",
        "  L=[]\n",
        "  for j in range (len(list_pitch2[i])):\n",
        "    if(len(list_pitch2[i][j])!=0):\n",
        "      L.append(mean(list_pitch2[i][j]))\n",
        "  Pitch_Anger_aligned_moy.append(L)"
      ],
      "execution_count": 52,
      "outputs": []
    },
    {
      "cell_type": "code",
      "metadata": {
        "colab": {
          "base_uri": "https://localhost:8080/"
        },
        "id": "CaOiPVvLpmZ2",
        "outputId": "89a0a61b-5cdf-414c-84f1-e6fdf849a35c"
      },
      "source": [
        "len(Pitch_Anger_aligned_moy[0])"
      ],
      "execution_count": 53,
      "outputs": [
        {
          "output_type": "execute_result",
          "data": {
            "text/plain": [
              "189"
            ]
          },
          "metadata": {
            "tags": []
          },
          "execution_count": 53
        }
      ]
    },
    {
      "cell_type": "code",
      "metadata": {
        "id": "RA94IJo4BX7z"
      },
      "source": [
        "for i in range(len(Pitch_Anger_aligned_moy)):\n",
        "  for j in range(len(Pitch_Anger_aligned_moy[i])):\n",
        "    if (Pitch_Anger_aligned_moy[i][j]==0.0):\n",
        "       Pitch_Anger_aligned_moy[i][j]=None"
      ],
      "execution_count": 125,
      "outputs": []
    },
    {
      "cell_type": "code",
      "metadata": {
        "id": "X-Ys9BRM7UOH"
      },
      "source": [
        "import pandas as pd\n",
        "Anger_DataFrame = pd.DataFrame.from_records(Pitch_Anger_aligned_moy)"
      ],
      "execution_count": 126,
      "outputs": []
    },
    {
      "cell_type": "code",
      "metadata": {
        "id": "NJeI3k8l7k9y"
      },
      "source": [
        "#Anger_DataFrame"
      ],
      "execution_count": 128,
      "outputs": []
    },
    {
      "cell_type": "code",
      "metadata": {
        "id": "oOCthG0xBlUA"
      },
      "source": [
        "Anger_DataFrame.to_csv(\"Anger_dataBase.csv\")"
      ],
      "execution_count": 129,
      "outputs": []
    },
    {
      "cell_type": "markdown",
      "metadata": {
        "id": "4ZAVPZlysrqx"
      },
      "source": [
        "## Calm DataBase"
      ]
    },
    {
      "cell_type": "code",
      "metadata": {
        "id": "WiWNLeh9tDT-"
      },
      "source": [
        "best_paths_Calm=[]\n",
        "for i in range (len(best_path_Calm)):\n",
        "  L=[]\n",
        "  for j in range(len(best_path_Calm[i])):\n",
        "    if((best_path_Calm[i][j][0]<len(Pitch_surprise[32]))&(best_path_Calm[i][j][1]<(best_path_Calm[i][len(best_path_Calm[i])-1][1]-2))):\n",
        "      L.append(best_path_Calm[i][j])\n",
        "  best_paths_Calm.append(L)"
      ],
      "execution_count": 54,
      "outputs": []
    },
    {
      "cell_type": "code",
      "metadata": {
        "id": "sUCchf74753R"
      },
      "source": [
        "#best_paths_Calm[0]"
      ],
      "execution_count": 55,
      "outputs": []
    },
    {
      "cell_type": "code",
      "metadata": {
        "id": "ndgaB0Wg24oh"
      },
      "source": [
        "Calm_Dict=[]\n",
        "for k in range (len(best_paths_Calm)):\n",
        "  Calm_synchro={}\n",
        "  for i in range (len(Pitch_surprise[32])):\n",
        "    Calm_synchro[i]=[]\n",
        "  for j in range (len(best_paths_Calm[k])):\n",
        "    Calm_synchro[best_paths_Calm[k][j][0]].append(best_paths_Calm[k][j][1])\n",
        "  Calm_Dict.append(Calm_synchro)"
      ],
      "execution_count": 56,
      "outputs": []
    },
    {
      "cell_type": "code",
      "metadata": {
        "id": "z8buc6MZ7qCl"
      },
      "source": [
        "Calm_Dict_Calm=[]\n",
        "for i in range (len(best_paths_Calm)):\n",
        "  Calm_synchro={}\n",
        "  for j in range (len(Pitch_surprise[32])):\n",
        "    Calm_synchro[j]=[]\n",
        "  Calm_Dict_Calm.append(Calm_synchro)"
      ],
      "execution_count": 57,
      "outputs": []
    },
    {
      "cell_type": "code",
      "metadata": {
        "id": "XAfacuBD73JB"
      },
      "source": [
        "for j in range (len(Calm_Dict)):\n",
        "  for i in range (len(Calm_Dict[j])):\n",
        "    for k in range(len(Calm_Dict[j][i])):\n",
        "      Calm_Dict_Calm[j][i].append(Pitch_Calm[j][Calm_Dict[j][i][k]])"
      ],
      "execution_count": 58,
      "outputs": []
    },
    {
      "cell_type": "code",
      "metadata": {
        "id": "grdtm1Gvcnr_"
      },
      "source": [
        "list_Pitch=[]\n",
        "for i in range (len(Calm_Dict_Calm)):\n",
        "  list_Pitch.append(Calm_Dict_Calm[i].values())\n",
        "list_pitch2=[]\n",
        "for i in range(len(list_Pitch)):\n",
        "  list_pitch2.append(list(list_Pitch[i]))\n",
        "Pitch_Calm_aligned_moy=[]\n",
        "for i in range(len(list_pitch2)):\n",
        "  L=[]\n",
        "  for j in range (len(list_pitch2[i])):\n",
        "    if(len(list_pitch2[i][j])!=0):\n",
        "      L.append(mean(list_pitch2[i][j]))\n",
        "  Pitch_Calm_aligned_moy.append(L)"
      ],
      "execution_count": 59,
      "outputs": []
    },
    {
      "cell_type": "code",
      "metadata": {
        "id": "WTYcDq8aAZDW"
      },
      "source": [
        "for i in range(len(Pitch_Calm_aligned_moy)):\n",
        "  for j in range(len(Pitch_Calm_aligned_moy[i])):\n",
        "    if (Pitch_Calm_aligned_moy[i][j]==0.0):\n",
        "       Pitch_Calm_aligned_moy[i][j]=None"
      ],
      "execution_count": 123,
      "outputs": []
    },
    {
      "cell_type": "code",
      "metadata": {
        "id": "VjAyhair71zs"
      },
      "source": [
        "Calm_DataFrame = pd.DataFrame.from_records(Pitch_Calm_aligned_moy)"
      ],
      "execution_count": 124,
      "outputs": []
    },
    {
      "cell_type": "code",
      "metadata": {
        "id": "2l13CHETB0Z4"
      },
      "source": [
        "Calm_DataFrame .to_csv(\"Calm_dataBase.csv\")"
      ],
      "execution_count": 130,
      "outputs": []
    },
    {
      "cell_type": "markdown",
      "metadata": {
        "id": "d0HHiJhYe21t"
      },
      "source": [
        "## Surprise Database"
      ]
    },
    {
      "cell_type": "code",
      "metadata": {
        "id": "pDK09TcteQ4n"
      },
      "source": [
        "best_paths_Surprise=[]\n",
        "for i in range (len(best_path_surprise)):\n",
        "  L=[]\n",
        "  for j in range(len(best_path_surprise[i])):\n",
        "    if((best_path_surprise[i][j][0]<len(Pitch_surprise[32]))&(best_path_surprise[i][j][1]<(best_path_surprise[i][len(best_path_surprise[i])-1][1]-2))):\n",
        "      L.append(best_path_surprise[i][j])\n",
        "  best_paths_Surprise.append(L)\n",
        "Surprise_Dict=[]\n",
        "for k in range (len(best_paths_Surprise)):\n",
        "  Surprise_synchro={}\n",
        "  for i in range (len(Pitch_surprise[32])):\n",
        "    Surprise_synchro[i]=[]\n",
        "  for j in range (len(best_paths_Surprise[k])):\n",
        "    Surprise_synchro[best_paths_Surprise[k][j][0]].append(best_paths_Surprise[k][j][1])\n",
        "  Surprise_Dict.append(Surprise_synchro)\n",
        "Surprise_Dict_Surprise=[]\n",
        "for i in range (len(best_paths_Surprise)):\n",
        "  Surprise_synchro={}\n",
        "  for j in range (len(Pitch_surprise[32])):\n",
        "    Surprise_synchro[j]=[]\n",
        "  Surprise_Dict_Surprise.append(Surprise_synchro)\n",
        "for j in range (len(Surprise_Dict)):\n",
        "  for i in range (len(Surprise_Dict[j])):\n",
        "    for k in range(len(Surprise_Dict[j][i])):\n",
        "      Surprise_Dict_Surprise[j][i].append(Pitch_surprise[j][Surprise_Dict[j][i][k]])"
      ],
      "execution_count": 60,
      "outputs": []
    },
    {
      "cell_type": "code",
      "metadata": {
        "id": "QqPCnp0ohIN-"
      },
      "source": [
        "list_Pitch=[]\n",
        "for i in range (len(Surprise_Dict_Surprise)):\n",
        "  list_Pitch.append(Surprise_Dict_Surprise[i].values())\n",
        "list_pitch2=[]\n",
        "for i in range(len(list_Pitch)):\n",
        "  list_pitch2.append(list(list_Pitch[i]))\n",
        "Pitch_Surprise_aligned_moy=[]\n",
        "for i in range(len(list_pitch2)):\n",
        "  L=[]\n",
        "  for j in range (len(list_pitch2[i])):\n",
        "    if(len(list_pitch2[i][j])!=0):\n",
        "      L.append(mean(list_pitch2[i][j]))\n",
        "  Pitch_Surprise_aligned_moy.append(L)"
      ],
      "execution_count": 61,
      "outputs": []
    },
    {
      "cell_type": "code",
      "metadata": {
        "id": "4qqS8MWPALJb"
      },
      "source": [
        "for i in range(len(Pitch_Surprise_aligned_moy)):\n",
        "  for j in range(len(Pitch_Surprise_aligned_moy[i])):\n",
        "    if (Pitch_Surprise_aligned_moy[i][j]==0.0):\n",
        "       Pitch_Surprise_aligned_moy[i][j]=None"
      ],
      "execution_count": 120,
      "outputs": []
    },
    {
      "cell_type": "code",
      "metadata": {
        "id": "nZC41TDf7-d1"
      },
      "source": [
        "Surprise_DataFrame = pd.DataFrame.from_records(Pitch_Surprise_aligned_moy)"
      ],
      "execution_count": 121,
      "outputs": []
    },
    {
      "cell_type": "code",
      "metadata": {
        "id": "M4z1dX358EDb"
      },
      "source": [
        "#Surprise_DataFrame"
      ],
      "execution_count": 140,
      "outputs": []
    },
    {
      "cell_type": "code",
      "metadata": {
        "id": "ljX76MeUB64r"
      },
      "source": [
        "Surprise_DataFrame .to_csv(\"Surprise_dataBase.csv\")"
      ],
      "execution_count": 131,
      "outputs": []
    },
    {
      "cell_type": "code",
      "metadata": {
        "id": "pyf533EMkTqw"
      },
      "source": [
        "#Surprise_Dict_Surprise[32]"
      ],
      "execution_count": 62,
      "outputs": []
    },
    {
      "cell_type": "markdown",
      "metadata": {
        "id": "ApZH-gAJiQRA"
      },
      "source": [
        "## Sadness DataBase"
      ]
    },
    {
      "cell_type": "code",
      "metadata": {
        "id": "DXQbkScQh0Ac"
      },
      "source": [
        "best_paths_Sadness=[]\n",
        "for i in range (len(best_path_sadness)):\n",
        "  L=[]\n",
        "  for j in range(len(best_path_sadness[i])):\n",
        "    if((best_path_sadness[i][j][0]<len(Pitch_surprise[32]))&(best_path_sadness[i][j][1]<(best_path_sadness[i][len(best_path_sadness[i])-1][1]-2))):\n",
        "      L.append(best_path_sadness[i][j])\n",
        "  best_paths_Sadness.append(L)\n",
        "Sadness_Dict=[]\n",
        "for k in range (len(best_paths_Sadness)):\n",
        "  Sadness_synchro={}\n",
        "  for i in range (len(Pitch_surprise[32])):\n",
        "    Sadness_synchro[i]=[]\n",
        "  for j in range (len(best_paths_Sadness[k])):\n",
        "    Sadness_synchro[best_paths_Sadness[k][j][0]].append(best_paths_Sadness[k][j][1])\n",
        "  Sadness_Dict.append(Sadness_synchro)\n",
        "Sadness_Dict_Sadness=[]\n",
        "for i in range (len(best_paths_Sadness)):\n",
        "  Sadness_synchro={}\n",
        "  for j in range (len(Pitch_surprise[32])):\n",
        "    Sadness_synchro[j]=[]\n",
        "  Sadness_Dict_Sadness.append(Sadness_synchro)\n",
        "for j in range (len(Sadness_Dict)):\n",
        "  for i in range (len(Sadness_Dict[j])):\n",
        "    for k in range(len(Sadness_Dict[j][i])):\n",
        "      Sadness_Dict_Sadness[j][i].append(Pitch_sadness[j][Sadness_Dict[j][i][k]])"
      ],
      "execution_count": 63,
      "outputs": []
    },
    {
      "cell_type": "code",
      "metadata": {
        "id": "3HxjsIv1j6wt"
      },
      "source": [
        "list_Pitch=[]\n",
        "for i in range (len(Sadness_Dict_Sadness)):\n",
        "  list_Pitch.append(Sadness_Dict_Sadness[i].values())\n",
        "list_pitch2=[]\n",
        "for i in range(len(list_Pitch)):\n",
        "  list_pitch2.append(list(list_Pitch[i]))\n",
        "Pitch_Sadness_aligned_moy=[]\n",
        "for i in range(len(list_pitch2)):\n",
        "  L=[]\n",
        "  for j in range (len(list_pitch2[i])):\n",
        "    if(len(list_pitch2[i][j])!=0):\n",
        "      L.append(mean(list_pitch2[i][j]))\n",
        "  Pitch_Sadness_aligned_moy.append(L)"
      ],
      "execution_count": 64,
      "outputs": []
    },
    {
      "cell_type": "code",
      "metadata": {
        "id": "y6f4zECLAAIP"
      },
      "source": [
        "for i in range(len(Pitch_Sadness_aligned_moy)):\n",
        "  for j in range(len(Pitch_Sadness_aligned_moy[i])):\n",
        "    if (Pitch_Sadness_aligned_moy[i][j]==0.0):\n",
        "       Pitch_Sadness_aligned_moy[i][j]=None"
      ],
      "execution_count": 118,
      "outputs": []
    },
    {
      "cell_type": "code",
      "metadata": {
        "id": "Z2F9J34O8Jcv"
      },
      "source": [
        "Sadness_DataFrame = pd.DataFrame.from_records(Pitch_Sadness_aligned_moy)"
      ],
      "execution_count": 119,
      "outputs": []
    },
    {
      "cell_type": "code",
      "metadata": {
        "id": "XCLRriBFCDN-"
      },
      "source": [
        "Sadness_DataFrame .to_csv(\"Sadness_dataBase.csv\")"
      ],
      "execution_count": null,
      "outputs": []
    },
    {
      "cell_type": "markdown",
      "metadata": {
        "id": "jsuBiUSmlpND"
      },
      "source": [
        "## Disgust DataBase"
      ]
    },
    {
      "cell_type": "code",
      "metadata": {
        "id": "81fQbPfckFcp"
      },
      "source": [
        "best_paths_disgust=[]\n",
        "for i in range (len(best_path_Disgust)):\n",
        "  L=[]\n",
        "  for j in range(len(best_path_Disgust[i])):\n",
        "    if((best_path_Disgust[i][j][0]<len(Pitch_surprise[32]))&(best_path_Disgust[i][j][1]<(best_path_Disgust[i][len(best_path_Disgust[i])-1][1]-2))):\n",
        "      L.append(best_path_Disgust[i][j])\n",
        "  best_paths_disgust.append(L)\n",
        "Disgust_Dict=[]\n",
        "for k in range (len(best_paths_disgust)):\n",
        "  Disgust_synchro={}\n",
        "  for i in range (len(Pitch_surprise[32])):\n",
        "    Disgust_synchro[i]=[]\n",
        "  for j in range (len(best_paths_disgust[k])):\n",
        "    Disgust_synchro[best_paths_disgust[k][j][0]].append(best_paths_disgust[k][j][1])\n",
        "  Disgust_Dict.append(Disgust_synchro)\n",
        "Disgust_Dict_Disgust=[]\n",
        "for i in range (len(best_paths_disgust)):\n",
        "  Disgust_synchro={}\n",
        "  for j in range (len(Pitch_surprise[32])):\n",
        "    Disgust_synchro[j]=[]\n",
        "  Disgust_Dict_Disgust.append(Disgust_synchro)\n",
        "for j in range (len(Disgust_Dict)):\n",
        "  for i in range (len(Disgust_Dict[j])):\n",
        "    for k in range(len(Disgust_Dict[j][i])):\n",
        "      Disgust_Dict_Disgust[j][i].append(Pitch_Disgust[j][Disgust_Dict[j][i][k]])"
      ],
      "execution_count": 65,
      "outputs": []
    },
    {
      "cell_type": "code",
      "metadata": {
        "id": "7xvzREGwoLz1"
      },
      "source": [
        "list_Pitch=[]\n",
        "for i in range (len(Disgust_Dict_Disgust)):\n",
        "  list_Pitch.append(Disgust_Dict_Disgust[i].values())\n",
        "list_pitch2=[]\n",
        "for i in range(len(list_Pitch)):\n",
        "  list_pitch2.append(list(list_Pitch[i]))\n",
        "Pitch_Disgust_aligned_moy=[]\n",
        "for i in range(len(list_pitch2)):\n",
        "  L=[]\n",
        "  for j in range (len(list_pitch2[i])):\n",
        "    if(len(list_pitch2[i][j])!=0):\n",
        "      L.append(mean(list_pitch2[i][j]))\n",
        "  Pitch_Disgust_aligned_moy.append(L)"
      ],
      "execution_count": 66,
      "outputs": []
    },
    {
      "cell_type": "code",
      "metadata": {
        "id": "x3xzVjY0_1FF"
      },
      "source": [
        "for i in range(len(Pitch_Disgust_aligned_moy)):\n",
        "  for j in range(len(Pitch_Disgust_aligned_moy[i])):\n",
        "    if (Pitch_Disgust_aligned_moy[i][j]==0.0):\n",
        "       Pitch_Disgust_aligned_moy[i][j]=None"
      ],
      "execution_count": 115,
      "outputs": []
    },
    {
      "cell_type": "code",
      "metadata": {
        "id": "MgmD_1Bq8Rk3"
      },
      "source": [
        "Disgust_DataFrame = pd.DataFrame.from_records(Pitch_Disgust_aligned_moy)"
      ],
      "execution_count": 116,
      "outputs": []
    },
    {
      "cell_type": "code",
      "metadata": {
        "id": "QonHJB6f_8a8"
      },
      "source": [
        "#Disgust_DataFrame "
      ],
      "execution_count": 132,
      "outputs": []
    },
    {
      "cell_type": "code",
      "metadata": {
        "id": "mGKRbFxzCJbJ"
      },
      "source": [
        "Disgust_DataFrame .to_csv(\"Disgust_dataBase.csv\")"
      ],
      "execution_count": 133,
      "outputs": []
    },
    {
      "cell_type": "markdown",
      "metadata": {
        "id": "U98wIwe2ok62"
      },
      "source": [
        "## Fear Data Base"
      ]
    },
    {
      "cell_type": "code",
      "metadata": {
        "id": "Ug57-JzsojRV"
      },
      "source": [
        "best_paths_fear=[]\n",
        "for i in range (len(best_path_fear)):\n",
        "  L=[]\n",
        "  for j in range(len(best_path_fear[i])):\n",
        "    if((best_path_fear[i][j][0]<len(Pitch_surprise[32]))&(best_path_fear[i][j][1]<(best_path_fear[i][len(best_path_fear[i])-1][1]-2))):\n",
        "      L.append(best_path_fear[i][j])\n",
        "  best_paths_fear.append(L)\n",
        "Fear_Dict=[]\n",
        "for k in range (len(best_paths_fear)):\n",
        "  Fear_synchro={}\n",
        "  for i in range (len(Pitch_surprise[32])):\n",
        "    Fear_synchro[i]=[]\n",
        "  for j in range (len(best_paths_fear[k])):\n",
        "    Fear_synchro[best_paths_fear[k][j][0]].append(best_paths_fear[k][j][1])\n",
        "  Fear_Dict.append(Fear_synchro)\n",
        "Fear_Dict_Fear=[]\n",
        "for i in range (len(best_paths_fear)):\n",
        "  Fear_synchro={}\n",
        "  for j in range (len(Pitch_surprise[32])):\n",
        "    Fear_synchro[j]=[]\n",
        "  Fear_Dict_Fear.append(Fear_synchro)\n",
        "for j in range (len(Fear_Dict)):\n",
        "  for i in range (len(Fear_Dict[j])):\n",
        "    for k in range(len(Fear_Dict[j][i])):\n",
        "      Fear_Dict_Fear[j][i].append(Pitch_fear[j][Fear_Dict[j][i][k]])"
      ],
      "execution_count": 67,
      "outputs": []
    },
    {
      "cell_type": "code",
      "metadata": {
        "id": "VoLt9iCdplVs"
      },
      "source": [
        "list_Pitch=[]\n",
        "for i in range (len(Fear_Dict_Fear)):\n",
        "  list_Pitch.append(Fear_Dict_Fear[i].values())\n",
        "list_pitch2=[]\n",
        "for i in range(len(list_Pitch)):\n",
        "  list_pitch2.append(list(list_Pitch[i]))\n",
        "Pitch_Fear_aligned_moy=[]\n",
        "for i in range(len(list_pitch2)):\n",
        "  L=[]\n",
        "  for j in range (len(list_pitch2[i])):\n",
        "    if(len(list_pitch2[i][j])!=0):\n",
        "      L.append(mean(list_pitch2[i][j]))\n",
        "  Pitch_Fear_aligned_moy.append(L)"
      ],
      "execution_count": 68,
      "outputs": []
    },
    {
      "cell_type": "code",
      "metadata": {
        "id": "8iJ2flZ6_p0W"
      },
      "source": [
        "for i in range(len(Pitch_Fear_aligned_moy)):\n",
        "  for j in range(len(Pitch_Fear_aligned_moy[i])):\n",
        "    if (Pitch_Fear_aligned_moy[i][j]==0.0):\n",
        "       Pitch_Fear_aligned_moy[i][j]=None"
      ],
      "execution_count": 112,
      "outputs": []
    },
    {
      "cell_type": "code",
      "metadata": {
        "id": "SKFVPa918X1l"
      },
      "source": [
        "Fear_DataFrame = pd.DataFrame.from_records(Pitch_Fear_aligned_moy)"
      ],
      "execution_count": 113,
      "outputs": []
    },
    {
      "cell_type": "code",
      "metadata": {
        "id": "rxPchzNn_w4D"
      },
      "source": [
        "#Fear_DataFrame"
      ],
      "execution_count": 134,
      "outputs": []
    },
    {
      "cell_type": "code",
      "metadata": {
        "id": "sBWh63JYCXsg"
      },
      "source": [
        "Fear_DataFrame .to_csv(\"Fear_dataBase.csv\")"
      ],
      "execution_count": 135,
      "outputs": []
    },
    {
      "cell_type": "markdown",
      "metadata": {
        "id": "NDMzx2qup_IZ"
      },
      "source": [
        "## Happiness Data Base"
      ]
    },
    {
      "cell_type": "code",
      "metadata": {
        "id": "XwB_CQg3puMW"
      },
      "source": [
        "best_paths_Happiness=[]\n",
        "for i in range (len(best_path_happiness)):\n",
        "  L=[]\n",
        "  for j in range(len(best_path_happiness[i])):\n",
        "    if((best_path_happiness[i][j][0]<len(Pitch_surprise[32]))&(best_path_happiness[i][j][1]<(best_path_happiness[i][len(best_path_happiness[i])-1][1]-2))):\n",
        "      L.append(best_path_happiness[i][j])\n",
        "  best_paths_Happiness.append(L)\n",
        "Happiness_Dict=[]\n",
        "for k in range (len(best_paths_Happiness)):\n",
        "  Happiness_synchro={}\n",
        "  for i in range (len(Pitch_surprise[32])):\n",
        "    Happiness_synchro[i]=[]\n",
        "  for j in range (len(best_paths_Happiness[k])):\n",
        "    Happiness_synchro[best_paths_Happiness[k][j][0]].append(best_paths_Happiness[k][j][1])\n",
        "  Happiness_Dict.append(Happiness_synchro)\n",
        "Happiness_Dict_Happiness=[]\n",
        "for i in range (len(best_paths_Happiness)):\n",
        "  Happiness_synchro={}\n",
        "  for j in range (len(Pitch_surprise[32])):\n",
        "    Happiness_synchro[j]=[]\n",
        "  Happiness_Dict_Happiness.append(Happiness_synchro)\n",
        "for j in range (len(Happiness_Dict)):\n",
        "  for i in range (len(Happiness_Dict[j])):\n",
        "    for k in range(len(Happiness_Dict[j][i])):\n",
        "      Happiness_Dict_Happiness[j][i].append(Pitch_happiness[j][Happiness_Dict[j][i][k]])"
      ],
      "execution_count": 69,
      "outputs": []
    },
    {
      "cell_type": "code",
      "metadata": {
        "id": "v3aM9iYBrIv6"
      },
      "source": [
        "list_Pitch=[]\n",
        "for i in range (len(Happiness_Dict_Happiness)):\n",
        "  list_Pitch.append(Happiness_Dict_Happiness[i].values())\n",
        "list_pitch2=[]\n",
        "for i in range(len(list_Pitch)):\n",
        "  list_pitch2.append(list(list_Pitch[i]))\n",
        "Pitch_Happiness_aligned_moy=[]\n",
        "for i in range(len(list_pitch2)):\n",
        "  L=[]\n",
        "  for j in range (len(list_pitch2[i])):\n",
        "    if(len(list_pitch2[i][j])!=0):\n",
        "      L.append(mean(list_pitch2[i][j]))\n",
        "  Pitch_Happiness_aligned_moy.append(L)"
      ],
      "execution_count": 70,
      "outputs": []
    },
    {
      "cell_type": "code",
      "metadata": {
        "id": "QzbnAibk_bkb"
      },
      "source": [
        "for i in range(len( Pitch_Happiness_aligned_moy)):\n",
        "  for j in range(len( Pitch_Happiness_aligned_moy[i])):\n",
        "    if ( Pitch_Happiness_aligned_moy[i][j]==0.0):\n",
        "       Pitch_Happiness_aligned_moy[i][j]=None"
      ],
      "execution_count": 109,
      "outputs": []
    },
    {
      "cell_type": "code",
      "metadata": {
        "id": "SpeCviYE8cuq"
      },
      "source": [
        "Happiness_DataFrame = pd.DataFrame.from_records(Pitch_Happiness_aligned_moy)"
      ],
      "execution_count": 110,
      "outputs": []
    },
    {
      "cell_type": "code",
      "metadata": {
        "id": "-sM9VNPS_ja6"
      },
      "source": [
        "#Happiness_DataFrame "
      ],
      "execution_count": 136,
      "outputs": []
    },
    {
      "cell_type": "code",
      "metadata": {
        "id": "Jw3bTrrWCjei"
      },
      "source": [
        "Happiness_DataFrame .to_csv(\"Happiness_dataBase.csv\")"
      ],
      "execution_count": 137,
      "outputs": []
    },
    {
      "cell_type": "markdown",
      "metadata": {
        "id": "qXu0yqlasm4B"
      },
      "source": [
        "## Neutral DATA BaSE"
      ]
    },
    {
      "cell_type": "code",
      "metadata": {
        "id": "vlWvoxBdrn0m"
      },
      "source": [
        "best_paths_Neutral=[]\n",
        "for i in range (len(best_path_Neutral)):\n",
        "  L=[]\n",
        "  for j in range(len(best_path_Neutral[i])):\n",
        "    if((best_path_Neutral[i][j][0]<len(Pitch_surprise[32]))&(best_path_Neutral[i][j][1]<(best_path_Neutral[i][len(best_path_Neutral[i])-1][1]-2))):\n",
        "      L.append(best_path_Neutral[i][j])\n",
        "  best_paths_Neutral.append(L)\n",
        "Neutral_Dict=[]\n",
        "for k in range (len(best_paths_Neutral)):\n",
        "  Neutral_synchro={}\n",
        "  for i in range (len(Pitch_surprise[32])):\n",
        "    Neutral_synchro[i]=[]\n",
        "  for j in range (len(best_paths_Neutral[k])):\n",
        "    Neutral_synchro[best_paths_Neutral[k][j][0]].append(best_paths_Neutral[k][j][1])\n",
        "  Neutral_Dict.append(Neutral_synchro)\n",
        "Neutral_Dict_Neutral=[]\n",
        "for i in range (len(best_paths_Neutral)):\n",
        "  Neutral_synchro={}\n",
        "  for j in range (len(Pitch_surprise[32])):\n",
        "    Neutral_synchro[j]=[]\n",
        "  Neutral_Dict_Neutral.append(Neutral_synchro)\n",
        "for j in range (len(Neutral_Dict)):\n",
        "  for i in range (len(Neutral_Dict[j])):\n",
        "    for k in range(len(Neutral_Dict[j][i])):\n",
        "      Neutral_Dict_Neutral[j][i].append(Pitch_Neutral[j][Neutral_Dict[j][i][k]])"
      ],
      "execution_count": 73,
      "outputs": []
    },
    {
      "cell_type": "code",
      "metadata": {
        "id": "Bn4Fn52qv37b"
      },
      "source": [
        "list_Pitch=[]\n",
        "for i in range (len(Neutral_Dict_Neutral)):\n",
        "  list_Pitch.append(Neutral_Dict_Neutral[i].values())\n",
        "list_pitch2=[]\n",
        "for i in range(len(list_Pitch)):\n",
        "  list_pitch2.append(list(list_Pitch[i]))\n",
        "Pitch_Neutral_aligned_moy=[]\n",
        "for i in range(len(list_pitch2)):\n",
        "  L=[]\n",
        "  for j in range (len(list_pitch2[i])):\n",
        "    if(len(list_pitch2[i][j])!=0):\n",
        "      L.append(mean(list_pitch2[i][j]))\n",
        "  Pitch_Neutral_aligned_moy.append(L)"
      ],
      "execution_count": 74,
      "outputs": []
    },
    {
      "cell_type": "code",
      "metadata": {
        "id": "QPn8R0u--UFt"
      },
      "source": [
        "for i in range(len(Pitch_Neutral_aligned_moy)):\n",
        "  for j in range(len(Pitch_Neutral_aligned_moy[i])):\n",
        "    if (Pitch_Neutral_aligned_moy[i][j]==0.0):\n",
        "      Pitch_Neutral_aligned_moy[i][j]=None"
      ],
      "execution_count": 105,
      "outputs": []
    },
    {
      "cell_type": "code",
      "metadata": {
        "id": "P_Dpeaee8i6u"
      },
      "source": [
        "Neutral_DataFrame = pd.DataFrame.from_records(Pitch_Neutral_aligned_moy)"
      ],
      "execution_count": 106,
      "outputs": []
    },
    {
      "cell_type": "code",
      "metadata": {
        "id": "ES46D_av082l"
      },
      "source": [
        "#Neutral_DataFrame"
      ],
      "execution_count": 138,
      "outputs": []
    },
    {
      "cell_type": "code",
      "metadata": {
        "id": "FMillSun9VR7"
      },
      "source": [
        "Neutral_DataFrame .to_csv(\"Neutral_dataBase.csv\")"
      ],
      "execution_count": 139,
      "outputs": []
    },
    {
      "cell_type": "code",
      "metadata": {
        "id": "t8UyKKzxCvx0"
      },
      "source": [
        ""
      ],
      "execution_count": null,
      "outputs": []
    }
  ]
}